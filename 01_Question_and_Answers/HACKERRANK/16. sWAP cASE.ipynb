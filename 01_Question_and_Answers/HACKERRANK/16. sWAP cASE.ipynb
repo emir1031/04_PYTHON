{
 "cells": [
  {
   "cell_type": "code",
   "execution_count": 11,
   "id": "5e723308",
   "metadata": {},
   "outputs": [
    {
     "name": "stdout",
     "output_type": "stream",
     "text": [
      "HackerRank.com presents \"Pythonist 2\".\n",
      "hACKERrANK.COM PRESENTS \"pYTHONIST 2\".\n"
     ]
    }
   ],
   "source": [
    "s = input()\n",
    "print(s.swapcase())"
   ]
  },
  {
   "cell_type": "markdown",
   "id": "63c69bad",
   "metadata": {},
   "source": [
    "another format"
   ]
  },
  {
   "cell_type": "code",
   "execution_count": 16,
   "id": "93f29fd2",
   "metadata": {},
   "outputs": [],
   "source": [
    "def swap_case (word):\n",
    "    answer = \"\"\n",
    "    for letter in word:\n",
    "        if letter.isupper():\n",
    "            letter = letter.lower()\n",
    "            answer+=\"\".join(letter)\n",
    "        else:\n",
    "            letter = letter.upper()\n",
    "            answer+= \"\".join(letter)\n",
    "    return answer"
   ]
  },
  {
   "cell_type": "code",
   "execution_count": 29,
   "id": "7d4c0152",
   "metadata": {},
   "outputs": [
    {
     "data": {
      "text/plain": [
       "'hACKERrANK.COM PRESENTS \"pYTHONIST 2\".'"
      ]
     },
     "execution_count": 29,
     "metadata": {},
     "output_type": "execute_result"
    }
   ],
   "source": [
    "swap_case('HackerRank.com presents \"Pythonist 2\".')"
   ]
  },
  {
   "cell_type": "markdown",
   "id": "1e079343",
   "metadata": {},
   "source": [
    "another format"
   ]
  },
  {
   "cell_type": "code",
   "execution_count": 30,
   "id": "933bfa20",
   "metadata": {},
   "outputs": [],
   "source": [
    "def swap_case (word):\n",
    "    print(word.swapcase())"
   ]
  },
  {
   "cell_type": "code",
   "execution_count": 31,
   "id": "91102310",
   "metadata": {},
   "outputs": [
    {
     "name": "stdout",
     "output_type": "stream",
     "text": [
      "hACKERrANK.COM PRESENTS \"pYTHONIST 2\".\n"
     ]
    }
   ],
   "source": [
    "swap_case('HackerRank.com presents \"Pythonist 2\".')"
   ]
  },
  {
   "cell_type": "code",
   "execution_count": null,
   "id": "a96793a2",
   "metadata": {},
   "outputs": [],
   "source": []
  },
  {
   "cell_type": "code",
   "execution_count": null,
   "id": "95b94787",
   "metadata": {},
   "outputs": [],
   "source": []
  },
  {
   "cell_type": "code",
   "execution_count": null,
   "id": "bc26263d",
   "metadata": {},
   "outputs": [],
   "source": []
  },
  {
   "cell_type": "code",
   "execution_count": null,
   "id": "2ffa7c80",
   "metadata": {},
   "outputs": [],
   "source": []
  }
 ],
 "metadata": {
  "kernelspec": {
   "display_name": "Python 3",
   "language": "python",
   "name": "python3"
  },
  "language_info": {
   "codemirror_mode": {
    "name": "ipython",
    "version": 3
   },
   "file_extension": ".py",
   "mimetype": "text/x-python",
   "name": "python",
   "nbconvert_exporter": "python",
   "pygments_lexer": "ipython3",
   "version": "3.8.8"
  }
 },
 "nbformat": 4,
 "nbformat_minor": 5
}
