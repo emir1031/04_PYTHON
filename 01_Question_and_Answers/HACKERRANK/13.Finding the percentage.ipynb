{
 "cells": [
  {
   "cell_type": "code",
   "execution_count": 1,
   "id": "942c46f2",
   "metadata": {},
   "outputs": [
    {
     "name": "stdout",
     "output_type": "stream",
     "text": [
      "3\n",
      "Emir 10 20 30\n",
      "Han 40 50 60\n",
      "Boz 15 30 45\n",
      "Boz\n",
      "30.00\n"
     ]
    }
   ],
   "source": [
    "n = int(input())\n",
    "student_marks = {}\n",
    "for _ in range(n):\n",
    "    name, *line = input().split()\n",
    "    scores = list(map(float, line))\n",
    "    student_marks[name] = scores\n",
    "query_name = input()\n",
    "\n",
    "output = list(student_marks[query_name])\n",
    "per = sum(output)/len(output);\n",
    "print(\"%.2f\" % per);"
   ]
  },
  {
   "cell_type": "code",
   "execution_count": 4,
   "id": "24d45a91",
   "metadata": {},
   "outputs": [
    {
     "name": "stdout",
     "output_type": "stream",
     "text": [
      "2\n",
      "Ahmet 32 45 64\n",
      "Mehmet 78 65 44\n",
      "Mehmet\n",
      "62.33\n"
     ]
    }
   ],
   "source": [
    "n = int(input())\n",
    "student_marks = {}\n",
    "for _ in range(n):\n",
    "    name, *line = input().split()\n",
    "    scores = list(map(float, line))\n",
    "    student_marks[name] = scores\n",
    "number = input()\n",
    "grades = sum(student_marks[number])\n",
    "average = grades/3 \n",
    "print(\"%.2f\"%(average))"
   ]
  }
 ],
 "metadata": {
  "kernelspec": {
   "display_name": "Python 3",
   "language": "python",
   "name": "python3"
  },
  "language_info": {
   "codemirror_mode": {
    "name": "ipython",
    "version": 3
   },
   "file_extension": ".py",
   "mimetype": "text/x-python",
   "name": "python",
   "nbconvert_exporter": "python",
   "pygments_lexer": "ipython3",
   "version": "3.8.8"
  }
 },
 "nbformat": 4,
 "nbformat_minor": 5
}
