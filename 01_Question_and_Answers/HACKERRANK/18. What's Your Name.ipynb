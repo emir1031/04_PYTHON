{
 "cells": [
  {
   "cell_type": "code",
   "execution_count": 17,
   "id": "d235a55c",
   "metadata": {},
   "outputs": [],
   "source": [
    "def print_full_name(first, last):\n",
    "    return \"Hello {first} {last}! You just delved into python.\".format(first = first, last = last)"
   ]
  },
  {
   "cell_type": "code",
   "execution_count": 18,
   "id": "4afa9475",
   "metadata": {},
   "outputs": [
    {
     "data": {
      "text/plain": [
       "'Hello Ross Taylor! You just delved into python.!'"
      ]
     },
     "execution_count": 18,
     "metadata": {},
     "output_type": "execute_result"
    }
   ],
   "source": [
    "print_full_name(\"Ross\", \"Taylor\")"
   ]
  },
  {
   "cell_type": "markdown",
   "id": "b3540817",
   "metadata": {},
   "source": []
  },
  {
   "cell_type": "code",
   "execution_count": 19,
   "id": "07cb1997",
   "metadata": {},
   "outputs": [],
   "source": [
    "def print_full_name(first, last):\n",
    "    print( f\"Hello {first} {last}! You just delved into python.\" )"
   ]
  },
  {
   "cell_type": "code",
   "execution_count": 16,
   "id": "77622799",
   "metadata": {},
   "outputs": [
    {
     "name": "stdout",
     "output_type": "stream",
     "text": [
      "Hello Ross Taylor! You just delved into python.!\n"
     ]
    }
   ],
   "source": [
    "print_full_name(\"Ross\", \"Taylor\")"
   ]
  },
  {
   "cell_type": "markdown",
   "id": "3216d63f",
   "metadata": {},
   "source": []
  },
  {
   "cell_type": "code",
   "execution_count": 23,
   "id": "0c53bf32",
   "metadata": {},
   "outputs": [],
   "source": [
    "def print_full_name(first, last):\n",
    "    print(\"Hello \" + first + \" \" + last + \"! You just delved into python.\")"
   ]
  },
  {
   "cell_type": "code",
   "execution_count": 24,
   "id": "7f005d4b",
   "metadata": {},
   "outputs": [
    {
     "name": "stdout",
     "output_type": "stream",
     "text": [
      "Hello Ross Taylor! You just delved into python.\n"
     ]
    }
   ],
   "source": [
    "print_full_name(\"Ross\", \"Taylor\")"
   ]
  }
 ],
 "metadata": {
  "kernelspec": {
   "display_name": "Python 3",
   "language": "python",
   "name": "python3"
  },
  "language_info": {
   "codemirror_mode": {
    "name": "ipython",
    "version": 3
   },
   "file_extension": ".py",
   "mimetype": "text/x-python",
   "name": "python",
   "nbconvert_exporter": "python",
   "pygments_lexer": "ipython3",
   "version": "3.8.8"
  }
 },
 "nbformat": 4,
 "nbformat_minor": 5
}
