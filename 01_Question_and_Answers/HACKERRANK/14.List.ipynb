{
 "cells": [
  {
   "cell_type": "code",
   "execution_count": 2,
   "id": "8c7506f5",
   "metadata": {},
   "outputs": [
    {
     "name": "stdout",
     "output_type": "stream",
     "text": [
      "12\n",
      "insert 0 5\n",
      "insert 1 10\n",
      "insert 0 6\n",
      "print\n",
      "[6, 5, 10]\n",
      "remove 6\n",
      "append 9\n",
      "append 1\n",
      "sort\n",
      "print\n",
      "[1, 5, 9, 10]\n",
      "pop\n",
      "reverse\n",
      "print\n",
      "[1, 5, 9]\n"
     ]
    }
   ],
   "source": [
    "# User need to give an integer number  as an input\n",
    "n = int(input())\n",
    "# I will use my answer list as an array under the name of my_arr\n",
    "my_array = [];\n",
    "# first is 'insert 0 5' means, put 5 at 0. index\n",
    "for i in range(0,n):\n",
    "    a = input().split(); # --> (indexes are 0->'insert', 1-> 0, 2-> 5) ['insert', '0', '5']\n",
    "    if a[0] == 'insert':  # if our command is insert:\n",
    "        my_array.insert(int(a[1]),int(a[2])) # my_array.insert(index-position, value-element) don't forget to change typr to int\n",
    "    elif a[0] == 'print': # if comman is print --> ['print'] there are no 1. and 2. indexes\n",
    "        print(my_array)\n",
    "    elif a[0] == 'remove': # if our command is remove ['remove', '6']\n",
    "        my_array.remove(int(a[1]))\n",
    "    elif a[0] == 'append': # if our command is append ['append', '9']\n",
    "        my_array.append(int(a[1]))\n",
    "    elif a[0] == 'sort': # if our command is sort --> sort the list\n",
    "        my_array.sort()\n",
    "    elif a[0] == 'pop': # if our command is pop --> what does pop do???\n",
    "        my_array.pop();\n",
    "    else : # the last one is reverse\n",
    "        my_array.reverse();\n",
    "    \n",
    "    "
   ]
  },
  {
   "cell_type": "markdown",
   "id": "b20c24e4",
   "metadata": {},
   "source": [
    "You need to put (); after reverse sort and pop :(\n"
   ]
  }
 ],
 "metadata": {
  "kernelspec": {
   "display_name": "Python 3",
   "language": "python",
   "name": "python3"
  },
  "language_info": {
   "codemirror_mode": {
    "name": "ipython",
    "version": 3
   },
   "file_extension": ".py",
   "mimetype": "text/x-python",
   "name": "python",
   "nbconvert_exporter": "python",
   "pygments_lexer": "ipython3",
   "version": "3.8.8"
  }
 },
 "nbformat": 4,
 "nbformat_minor": 5
}
