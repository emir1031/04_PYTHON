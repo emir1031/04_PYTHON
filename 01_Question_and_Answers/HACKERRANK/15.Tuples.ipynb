{
 "cells": [
  {
   "cell_type": "markdown",
   "id": "9b7ba615",
   "metadata": {},
   "source": [
    "Task\n",
    "\n",
    "Given an integer n  and  n  space-separated integers as input, create a tuple  t of those  n  integers. Then compute and print the result of  hash(t).\n",
    "\n",
    "Note: hash() is one of the functions in the __builtins__ module, so it need not be imported.\n",
    "\n",
    "Input Format\n",
    "\n",
    "The first line contains an integer n  denoting the number of elements in the tuple.\n",
    "\n",
    "The second line contains n  space-separated integers describing the elements in tuple   t.\n",
    "\n",
    "Output Format\n",
    "\n",
    "Print the result of  hash(t).\n",
    "\n",
    "Sample Input\n",
    "\n",
    "1\n",
    "\n",
    "12\n",
    "\n",
    "\n",
    "Sample Output\n",
    "\n",
    "3713081631934410656"
   ]
  },
  {
   "cell_type": "code",
   "execution_count": 3,
   "id": "08f592e1",
   "metadata": {},
   "outputs": [
    {
     "name": "stdout",
     "output_type": "stream",
     "text": [
      "2\n",
      "1 2\n",
      "-3550055125485641917\n"
     ]
    }
   ],
   "source": [
    "myint = int(input())  # input in integer type\n",
    "mytuple = tuple(map(int, input().split()))  # one single line but 2 value and convert them into int by using map and tuple\n",
    "print(hash(mytuple))"
   ]
  }
 ],
 "metadata": {
  "kernelspec": {
   "display_name": "Python 3",
   "language": "python",
   "name": "python3"
  },
  "language_info": {
   "codemirror_mode": {
    "name": "ipython",
    "version": 3
   },
   "file_extension": ".py",
   "mimetype": "text/x-python",
   "name": "python",
   "nbconvert_exporter": "python",
   "pygments_lexer": "ipython3",
   "version": "3.8.8"
  }
 },
 "nbformat": 4,
 "nbformat_minor": 5
}
